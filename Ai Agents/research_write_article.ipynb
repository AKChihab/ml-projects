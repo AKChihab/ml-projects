{
 "cells": [
  {
   "cell_type": "markdown",
   "metadata": {},
   "source": [
    "# L2: Create Agents to Research and Write an Article\n"
   ]
  },
  {
   "cell_type": "code",
   "execution_count": 2,
   "metadata": {},
   "outputs": [],
   "source": [
    "# Warning control\n",
    "import warnings\n",
    "warnings.filterwarnings('ignore')"
   ]
  },
  {
   "cell_type": "code",
   "execution_count": null,
   "metadata": {},
   "outputs": [],
   "source": [
    "from crewai import Agent, Task, Crew"
   ]
  },
  {
   "cell_type": "code",
   "execution_count": null,
   "metadata": {},
   "outputs": [],
   "source": [
    "import os\n",
    "from utils import get_openai_api_key\n",
    "\n",
    "openai_api_key = get_openai_api_key()\n",
    "os.environ[\"OPENAI_MODEL_NAME\"] = 'gpt-3.5-turbo'"
   ]
  },
  {
   "cell_type": "markdown",
   "metadata": {},
   "source": [
    "## Creating Agents\n",
    "\n",
    "- Define your Agents, and provide them a `role`, `goal` and `backstory`.\n",
    "- It has been seen that LLMs perform better when they are role playing."
   ]
  },
  {
   "cell_type": "markdown",
   "metadata": {},
   "source": [
    "### Agent: Planner\n",
    "\n",
    "**Note**: The benefit of using _multiple strings_ :\n",
    "```Python\n",
    "varname = \"line 1 of text\"\n",
    "          \"line 2 of text\"\n",
    "```\n",
    "\n",
    "versus the _triple quote docstring_:\n",
    "```Python\n",
    "varname = \"\"\"line 1 of text\n",
    "             line 2 of text\n",
    "          \"\"\"\n",
    "```\n",
    "is that it can avoid adding those whitespaces and newline characters, making it better formatted to be passed to the LLM."
   ]
  },
  {
   "cell_type": "code",
   "execution_count": 5,
   "metadata": {},
   "outputs": [
    {
     "ename": "NameError",
     "evalue": "name 'Agent' is not defined",
     "output_type": "error",
     "traceback": [
      "\u001b[31m---------------------------------------------------------------------------\u001b[39m",
      "\u001b[31mNameError\u001b[39m                                 Traceback (most recent call last)",
      "\u001b[36mCell\u001b[39m\u001b[36m \u001b[39m\u001b[32mIn[5]\u001b[39m\u001b[32m, line 1\u001b[39m\n\u001b[32m----> \u001b[39m\u001b[32m1\u001b[39m planner = \u001b[43mAgent\u001b[49m(\n\u001b[32m      2\u001b[39m     role=\u001b[33m\"\u001b[39m\u001b[33mContent Planner\u001b[39m\u001b[33m\"\u001b[39m,\n\u001b[32m      3\u001b[39m     goal=\u001b[33m\"\u001b[39m\u001b[33mPlan engaging and factually accurate content on \u001b[39m\u001b[38;5;132;01m{topic}\u001b[39;00m\u001b[33m\"\u001b[39m,\n\u001b[32m      4\u001b[39m     backstory=\u001b[33m\"\u001b[39m\u001b[33mYou\u001b[39m\u001b[33m'\u001b[39m\u001b[33mre working on planning a blog article \u001b[39m\u001b[33m\"\u001b[39m\n\u001b[32m      5\u001b[39m               \u001b[33m\"\u001b[39m\u001b[33mabout the topic: \u001b[39m\u001b[38;5;132;01m{topic}\u001b[39;00m\u001b[33m.\u001b[39m\u001b[33m\"\u001b[39m\n\u001b[32m      6\u001b[39m               \u001b[33m\"\u001b[39m\u001b[33mYou collect information that helps the \u001b[39m\u001b[33m\"\u001b[39m\n\u001b[32m      7\u001b[39m               \u001b[33m\"\u001b[39m\u001b[33maudience learn something \u001b[39m\u001b[33m\"\u001b[39m\n\u001b[32m      8\u001b[39m               \u001b[33m\"\u001b[39m\u001b[33mand make informed decisions. \u001b[39m\u001b[33m\"\u001b[39m\n\u001b[32m      9\u001b[39m               \u001b[33m\"\u001b[39m\u001b[33mYour work is the basis for \u001b[39m\u001b[33m\"\u001b[39m\n\u001b[32m     10\u001b[39m               \u001b[33m\"\u001b[39m\u001b[33mthe Content Writer to write an article on this topic.\u001b[39m\u001b[33m\"\u001b[39m,\n\u001b[32m     11\u001b[39m     allow_delegation=\u001b[38;5;28;01mFalse\u001b[39;00m,\n\u001b[32m     12\u001b[39m \tverbose=\u001b[38;5;28;01mTrue\u001b[39;00m\n\u001b[32m     13\u001b[39m )\n",
      "\u001b[31mNameError\u001b[39m: name 'Agent' is not defined"
     ]
    }
   ],
   "source": [
    "planner = Agent(\n",
    "    role=\"Content Planner\",\n",
    "    goal=\"Plan engaging and factually accurate content on {topic}\",\n",
    "    backstory=\"You're working on planning a blog article \"\n",
    "              \"about the topic: {topic}.\"\n",
    "              \"You collect information that helps the \"\n",
    "              \"audience learn something \"\n",
    "              \"and make informed decisions. \"\n",
    "              \"Your work is the basis for \"\n",
    "              \"the Content Writer to write an article on this topic.\",\n",
    "    allow_delegation=False,\n",
    "\tverbose=True\n",
    ")"
   ]
  },
  {
   "cell_type": "code",
   "execution_count": 6,
   "metadata": {},
   "outputs": [
    {
     "ename": "NameError",
     "evalue": "name 'Agent' is not defined",
     "output_type": "error",
     "traceback": [
      "\u001b[31m---------------------------------------------------------------------------\u001b[39m",
      "\u001b[31mNameError\u001b[39m                                 Traceback (most recent call last)",
      "\u001b[36mCell\u001b[39m\u001b[36m \u001b[39m\u001b[32mIn[6]\u001b[39m\u001b[32m, line 1\u001b[39m\n\u001b[32m----> \u001b[39m\u001b[32m1\u001b[39m writer = \u001b[43mAgent\u001b[49m(\n\u001b[32m      2\u001b[39m     role=\u001b[33m\"\u001b[39m\u001b[33mContent Writer\u001b[39m\u001b[33m\"\u001b[39m,\n\u001b[32m      3\u001b[39m     goal=\u001b[33m\"\u001b[39m\u001b[33mWrite insightful and factually accurate \u001b[39m\u001b[33m\"\u001b[39m\n\u001b[32m      4\u001b[39m          \u001b[33m\"\u001b[39m\u001b[33mopinion piece about the topic: \u001b[39m\u001b[38;5;132;01m{topic}\u001b[39;00m\u001b[33m\"\u001b[39m,\n\u001b[32m      5\u001b[39m     backstory=\u001b[33m\"\u001b[39m\u001b[33mYou\u001b[39m\u001b[33m'\u001b[39m\u001b[33mre working on a writing \u001b[39m\u001b[33m\"\u001b[39m\n\u001b[32m      6\u001b[39m               \u001b[33m\"\u001b[39m\u001b[33ma new opinion piece about the topic: \u001b[39m\u001b[38;5;132;01m{topic}\u001b[39;00m\u001b[33m. \u001b[39m\u001b[33m\"\u001b[39m\n\u001b[32m      7\u001b[39m               \u001b[33m\"\u001b[39m\u001b[33mYou base your writing on the work of \u001b[39m\u001b[33m\"\u001b[39m\n\u001b[32m      8\u001b[39m               \u001b[33m\"\u001b[39m\u001b[33mthe Content Planner, who provides an outline \u001b[39m\u001b[33m\"\u001b[39m\n\u001b[32m      9\u001b[39m               \u001b[33m\"\u001b[39m\u001b[33mand relevant context about the topic. \u001b[39m\u001b[33m\"\u001b[39m\n\u001b[32m     10\u001b[39m               \u001b[33m\"\u001b[39m\u001b[33mYou follow the main objectives and \u001b[39m\u001b[33m\"\u001b[39m\n\u001b[32m     11\u001b[39m               \u001b[33m\"\u001b[39m\u001b[33mdirection of the outline, \u001b[39m\u001b[33m\"\u001b[39m\n\u001b[32m     12\u001b[39m               \u001b[33m\"\u001b[39m\u001b[33mas provide by the Content Planner. \u001b[39m\u001b[33m\"\u001b[39m\n\u001b[32m     13\u001b[39m               \u001b[33m\"\u001b[39m\u001b[33mYou also provide objective and impartial insights \u001b[39m\u001b[33m\"\u001b[39m\n\u001b[32m     14\u001b[39m               \u001b[33m\"\u001b[39m\u001b[33mand back them up with information \u001b[39m\u001b[33m\"\u001b[39m\n\u001b[32m     15\u001b[39m               \u001b[33m\"\u001b[39m\u001b[33mprovide by the Content Planner. \u001b[39m\u001b[33m\"\u001b[39m\n\u001b[32m     16\u001b[39m               \u001b[33m\"\u001b[39m\u001b[33mYou acknowledge in your opinion piece \u001b[39m\u001b[33m\"\u001b[39m\n\u001b[32m     17\u001b[39m               \u001b[33m\"\u001b[39m\u001b[33mwhen your statements are opinions \u001b[39m\u001b[33m\"\u001b[39m\n\u001b[32m     18\u001b[39m               \u001b[33m\"\u001b[39m\u001b[33mas opposed to objective statements.\u001b[39m\u001b[33m\"\u001b[39m,\n\u001b[32m     19\u001b[39m     allow_delegation=\u001b[38;5;28;01mFalse\u001b[39;00m,\n\u001b[32m     20\u001b[39m     verbose=\u001b[38;5;28;01mTrue\u001b[39;00m\n\u001b[32m     21\u001b[39m )\n",
      "\u001b[31mNameError\u001b[39m: name 'Agent' is not defined"
     ]
    }
   ],
   "source": [
    "writer = Agent(\n",
    "    role=\"Content Writer\",\n",
    "    goal=\"Write insightful and factually accurate \"\n",
    "         \"opinion piece about the topic: {topic}\",\n",
    "    backstory=\"You're working on a writing \"\n",
    "              \"a new opinion piece about the topic: {topic}. \"\n",
    "              \"You base your writing on the work of \"\n",
    "              \"the Content Planner, who provides an outline \"\n",
    "              \"and relevant context about the topic. \"\n",
    "              \"You follow the main objectives and \"\n",
    "              \"direction of the outline, \"\n",
    "              \"as provide by the Content Planner. \"\n",
    "              \"You also provide objective and impartial insights \"\n",
    "              \"and back them up with information \"\n",
    "              \"provide by the Content Planner. \"\n",
    "              \"You acknowledge in your opinion piece \"\n",
    "              \"when your statements are opinions \"\n",
    "              \"as opposed to objective statements.\",\n",
    "    allow_delegation=False,\n",
    "    verbose=True\n",
    ")"
   ]
  },
  {
   "cell_type": "code",
   "execution_count": 7,
   "metadata": {},
   "outputs": [
    {
     "ename": "NameError",
     "evalue": "name 'Agent' is not defined",
     "output_type": "error",
     "traceback": [
      "\u001b[31m---------------------------------------------------------------------------\u001b[39m",
      "\u001b[31mNameError\u001b[39m                                 Traceback (most recent call last)",
      "\u001b[36mCell\u001b[39m\u001b[36m \u001b[39m\u001b[32mIn[7]\u001b[39m\u001b[32m, line 1\u001b[39m\n\u001b[32m----> \u001b[39m\u001b[32m1\u001b[39m editor = \u001b[43mAgent\u001b[49m(\n\u001b[32m      2\u001b[39m     role=\u001b[33m\"\u001b[39m\u001b[33mEditor\u001b[39m\u001b[33m\"\u001b[39m,\n\u001b[32m      3\u001b[39m     goal=\u001b[33m\"\u001b[39m\u001b[33mEdit a given blog post to align with \u001b[39m\u001b[33m\"\u001b[39m\n\u001b[32m      4\u001b[39m          \u001b[33m\"\u001b[39m\u001b[33mthe writing style of the organization. \u001b[39m\u001b[33m\"\u001b[39m,\n\u001b[32m      5\u001b[39m     backstory=\u001b[33m\"\u001b[39m\u001b[33mYou are an editor who receives a blog post \u001b[39m\u001b[33m\"\u001b[39m\n\u001b[32m      6\u001b[39m               \u001b[33m\"\u001b[39m\u001b[33mfrom the Content Writer. \u001b[39m\u001b[33m\"\u001b[39m\n\u001b[32m      7\u001b[39m               \u001b[33m\"\u001b[39m\u001b[33mYour goal is to review the blog post \u001b[39m\u001b[33m\"\u001b[39m\n\u001b[32m      8\u001b[39m               \u001b[33m\"\u001b[39m\u001b[33mto ensure that it follows journalistic best practices,\u001b[39m\u001b[33m\"\u001b[39m\n\u001b[32m      9\u001b[39m               \u001b[33m\"\u001b[39m\u001b[33mprovides balanced viewpoints \u001b[39m\u001b[33m\"\u001b[39m\n\u001b[32m     10\u001b[39m               \u001b[33m\"\u001b[39m\u001b[33mwhen providing opinions or assertions, \u001b[39m\u001b[33m\"\u001b[39m\n\u001b[32m     11\u001b[39m               \u001b[33m\"\u001b[39m\u001b[33mand also avoids major controversial topics \u001b[39m\u001b[33m\"\u001b[39m\n\u001b[32m     12\u001b[39m               \u001b[33m\"\u001b[39m\u001b[33mor opinions when possible.\u001b[39m\u001b[33m\"\u001b[39m,\n\u001b[32m     13\u001b[39m     allow_delegation=\u001b[38;5;28;01mFalse\u001b[39;00m,\n\u001b[32m     14\u001b[39m     verbose=\u001b[38;5;28;01mTrue\u001b[39;00m\n\u001b[32m     15\u001b[39m )\n",
      "\u001b[31mNameError\u001b[39m: name 'Agent' is not defined"
     ]
    }
   ],
   "source": [
    "editor = Agent(\n",
    "    role=\"Editor\",\n",
    "    goal=\"Edit a given blog post to align with \"\n",
    "         \"the writing style of the organization. \",\n",
    "    backstory=\"You are an editor who receives a blog post \"\n",
    "              \"from the Content Writer. \"\n",
    "              \"Your goal is to review the blog post \"\n",
    "              \"to ensure that it follows journalistic best practices,\"\n",
    "              \"provides balanced viewpoints \"\n",
    "              \"when providing opinions or assertions, \"\n",
    "              \"and also avoids major controversial topics \"\n",
    "              \"or opinions when possible.\",\n",
    "    allow_delegation=False,\n",
    "    verbose=True\n",
    ")"
   ]
  },
  {
   "cell_type": "markdown",
   "metadata": {},
   "source": [
    "## Creating Tasks\n",
    "\n",
    "- Define your Tasks, and provide them a `description`, `expected_output` and `agent`."
   ]
  },
  {
   "cell_type": "code",
   "execution_count": 8,
   "metadata": {},
   "outputs": [
    {
     "ename": "NameError",
     "evalue": "name 'Task' is not defined",
     "output_type": "error",
     "traceback": [
      "\u001b[31m---------------------------------------------------------------------------\u001b[39m",
      "\u001b[31mNameError\u001b[39m                                 Traceback (most recent call last)",
      "\u001b[36mCell\u001b[39m\u001b[36m \u001b[39m\u001b[32mIn[8]\u001b[39m\u001b[32m, line 1\u001b[39m\n\u001b[32m----> \u001b[39m\u001b[32m1\u001b[39m plan = \u001b[43mTask\u001b[49m(\n\u001b[32m      2\u001b[39m     description=(\n\u001b[32m      3\u001b[39m         \u001b[33m\"\u001b[39m\u001b[33m1. Prioritize the latest trends, key players, \u001b[39m\u001b[33m\"\u001b[39m\n\u001b[32m      4\u001b[39m             \u001b[33m\"\u001b[39m\u001b[33mand noteworthy news on \u001b[39m\u001b[38;5;132;01m{topic}\u001b[39;00m\u001b[33m.\u001b[39m\u001b[38;5;130;01m\\n\u001b[39;00m\u001b[33m\"\u001b[39m\n\u001b[32m      5\u001b[39m         \u001b[33m\"\u001b[39m\u001b[33m2. Identify the target audience, considering \u001b[39m\u001b[33m\"\u001b[39m\n\u001b[32m      6\u001b[39m             \u001b[33m\"\u001b[39m\u001b[33mtheir interests and pain points.\u001b[39m\u001b[38;5;130;01m\\n\u001b[39;00m\u001b[33m\"\u001b[39m\n\u001b[32m      7\u001b[39m         \u001b[33m\"\u001b[39m\u001b[33m3. Develop a detailed content outline including \u001b[39m\u001b[33m\"\u001b[39m\n\u001b[32m      8\u001b[39m             \u001b[33m\"\u001b[39m\u001b[33man introduction, key points, and a call to action.\u001b[39m\u001b[38;5;130;01m\\n\u001b[39;00m\u001b[33m\"\u001b[39m\n\u001b[32m      9\u001b[39m         \u001b[33m\"\u001b[39m\u001b[33m4. Include SEO keywords and relevant data or sources.\u001b[39m\u001b[33m\"\u001b[39m\n\u001b[32m     10\u001b[39m     ),\n\u001b[32m     11\u001b[39m     expected_output=\u001b[33m\"\u001b[39m\u001b[33mA comprehensive content plan document \u001b[39m\u001b[33m\"\u001b[39m\n\u001b[32m     12\u001b[39m         \u001b[33m\"\u001b[39m\u001b[33mwith an outline, audience analysis, \u001b[39m\u001b[33m\"\u001b[39m\n\u001b[32m     13\u001b[39m         \u001b[33m\"\u001b[39m\u001b[33mSEO keywords, and resources.\u001b[39m\u001b[33m\"\u001b[39m,\n\u001b[32m     14\u001b[39m     agent=planner,\n\u001b[32m     15\u001b[39m )\n\u001b[32m     17\u001b[39m write = Task(\n\u001b[32m     18\u001b[39m     description=(\n\u001b[32m     19\u001b[39m         \u001b[33m\"\u001b[39m\u001b[33m1. Use the content plan to craft a compelling \u001b[39m\u001b[33m\"\u001b[39m\n\u001b[32m   (...)\u001b[39m\u001b[32m     33\u001b[39m     agent=writer,\n\u001b[32m     34\u001b[39m )\n\u001b[32m     37\u001b[39m edit = Task(\n\u001b[32m     38\u001b[39m     description=(\u001b[33m\"\u001b[39m\u001b[33mProofread the given blog post for \u001b[39m\u001b[33m\"\u001b[39m\n\u001b[32m     39\u001b[39m                  \u001b[33m\"\u001b[39m\u001b[33mgrammatical errors and \u001b[39m\u001b[33m\"\u001b[39m\n\u001b[32m   (...)\u001b[39m\u001b[32m     44\u001b[39m     agent=editor\n\u001b[32m     45\u001b[39m )\n",
      "\u001b[31mNameError\u001b[39m: name 'Task' is not defined"
     ]
    }
   ],
   "source": [
    "plan = Task(\n",
    "    description=(\n",
    "        \"1. Prioritize the latest trends, key players, \"\n",
    "            \"and noteworthy news on {topic}.\\n\"\n",
    "        \"2. Identify the target audience, considering \"\n",
    "            \"their interests and pain points.\\n\"\n",
    "        \"3. Develop a detailed content outline including \"\n",
    "            \"an introduction, key points, and a call to action.\\n\"\n",
    "        \"4. Include SEO keywords and relevant data or sources.\"\n",
    "    ),\n",
    "    expected_output=\"A comprehensive content plan document \"\n",
    "        \"with an outline, audience analysis, \"\n",
    "        \"SEO keywords, and resources.\",\n",
    "    agent=planner,\n",
    ")\n",
    "\n",
    "write = Task(\n",
    "    description=(\n",
    "        \"1. Use the content plan to craft a compelling \"\n",
    "            \"blog post on {topic}.\\n\"\n",
    "        \"2. Incorporate SEO keywords naturally.\\n\"\n",
    "\t\t\"3. Sections/Subtitles are properly named \"\n",
    "            \"in an engaging manner.\\n\"\n",
    "        \"4. Ensure the post is structured with an \"\n",
    "            \"engaging introduction, insightful body, \"\n",
    "            \"and a summarizing conclusion.\\n\"\n",
    "        \"5. Proofread for grammatical errors and \"\n",
    "            \"alignment with the brand's voice.\\n\"\n",
    "    ),\n",
    "    expected_output=\"A well-written blog post \"\n",
    "        \"in markdown format, ready for publication, \"\n",
    "        \"each section should have 2 or 3 paragraphs.\",\n",
    "    agent=writer,\n",
    ")\n",
    "\n",
    "\n",
    "edit = Task(\n",
    "    description=(\"Proofread the given blog post for \"\n",
    "                 \"grammatical errors and \"\n",
    "                 \"alignment with the brand's voice.\"),\n",
    "    expected_output=\"A well-written blog post in markdown format, \"\n",
    "                    \"ready for publication, \"\n",
    "                    \"each section should have 2 or 3 paragraphs.\",\n",
    "    agent=editor\n",
    ")"
   ]
  },
  {
   "cell_type": "markdown",
   "metadata": {},
   "source": [
    "## Creating the Crew\n",
    "\n",
    "- Create your crew of Agents\n",
    "- Pass the tasks to be performed by those agents.\n",
    "    - **Note**: *For this simple example*, the tasks will be performed sequentially (i.e they are dependent on each other), so the _order_ of the task in the list _matters_.\n",
    "- `verbose=2` allows you to see all the logs of the execution. "
   ]
  },
  {
   "cell_type": "code",
   "execution_count": 9,
   "metadata": {},
   "outputs": [
    {
     "ename": "NameError",
     "evalue": "name 'Crew' is not defined",
     "output_type": "error",
     "traceback": [
      "\u001b[31m---------------------------------------------------------------------------\u001b[39m",
      "\u001b[31mNameError\u001b[39m                                 Traceback (most recent call last)",
      "\u001b[36mCell\u001b[39m\u001b[36m \u001b[39m\u001b[32mIn[9]\u001b[39m\u001b[32m, line 1\u001b[39m\n\u001b[32m----> \u001b[39m\u001b[32m1\u001b[39m crew = \u001b[43mCrew\u001b[49m(\n\u001b[32m      2\u001b[39m     agents=[planner, writer, editor],\n\u001b[32m      3\u001b[39m     tasks=[plan, write, edit],\n\u001b[32m      4\u001b[39m     verbose=\u001b[32m2\u001b[39m\n\u001b[32m      5\u001b[39m )\n",
      "\u001b[31mNameError\u001b[39m: name 'Crew' is not defined"
     ]
    }
   ],
   "source": [
    "crew = Crew(\n",
    "    agents=[planner, writer, editor],\n",
    "    tasks=[plan, write, edit],\n",
    "    verbose=2\n",
    ")"
   ]
  },
  {
   "cell_type": "code",
   "execution_count": null,
   "metadata": {},
   "outputs": [],
   "source": [
    "result = crew.kickoff(inputs={\"topic\": \"Artificial Intelligence\"})\n"
   ]
  },
  {
   "cell_type": "code",
   "execution_count": null,
   "metadata": {},
   "outputs": [],
   "source": [
    "from IPython.display import Markdown\n",
    "Markdown(result)"
   ]
  }
 ],
 "metadata": {
  "kernelspec": {
   "display_name": ".venv",
   "language": "python",
   "name": "python3"
  },
  "language_info": {
   "codemirror_mode": {
    "name": "ipython",
    "version": 3
   },
   "file_extension": ".py",
   "mimetype": "text/x-python",
   "name": "python",
   "nbconvert_exporter": "python",
   "pygments_lexer": "ipython3",
   "version": "3.12.6"
  }
 },
 "nbformat": 4,
 "nbformat_minor": 2
}
